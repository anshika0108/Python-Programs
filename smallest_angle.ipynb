{
 "cells": [
  {
   "cell_type": "code",
   "execution_count": 110,
   "metadata": {},
   "outputs": [
    {
     "name": "stdout",
     "output_type": "stream",
     "text": [
      "2019-10-21 22:29:17.961678\n",
      "Current Hour: 10\n",
      "Current minute: 29\n",
      "Smallest angle between hour and minute hand :- 140.5\n"
     ]
    }
   ],
   "source": [
    "#Find the smallest angle between hour and minute hand \n",
    "\n",
    "import datetime\n",
    "datetime_object = datetime.datetime.now()\n",
    "print(datetime_object)\n",
    "\n",
    "h = datetime_object.strftime(\"%I\")\n",
    "h1 = int(h)\n",
    "print(\"Current Hour:\", h1)\n",
    "m = datetime_object.strftime(\"%M\")\n",
    "m1 = int(m)\n",
    "print(\"Current minute:\", m1)\n",
    "\n",
    "if (h1 < 0) or (m1 < 0) or (h1 > 12) or (m1 > 60):\n",
    "    print('wrong data')\n",
    "    \n",
    "if (h1 == 12):\n",
    "    h1 = 0\n",
    "if (m1 == 60):\n",
    "    m1 = 0\n",
    "hour_angle = 0.5 * (h1 * 60 + m1) \n",
    "minute_angle = 6 * m1\n",
    "angle = abs(hour_angle - minute_angle) \n",
    "angle = min(360 - angle, angle) \n",
    "print(\"Smallest angle between hour and minute hand :-\", angle)\n"
   ]
  },
  {
   "cell_type": "code",
   "execution_count": null,
   "metadata": {},
   "outputs": [],
   "source": []
  },
  {
   "cell_type": "code",
   "execution_count": null,
   "metadata": {},
   "outputs": [],
   "source": []
  },
  {
   "cell_type": "code",
   "execution_count": null,
   "metadata": {},
   "outputs": [],
   "source": []
  },
  {
   "cell_type": "code",
   "execution_count": null,
   "metadata": {},
   "outputs": [],
   "source": []
  },
  {
   "cell_type": "code",
   "execution_count": null,
   "metadata": {},
   "outputs": [],
   "source": []
  }
 ],
 "metadata": {
  "kernelspec": {
   "display_name": "Python 3",
   "language": "python",
   "name": "python3"
  },
  "language_info": {
   "codemirror_mode": {
    "name": "ipython",
    "version": 3
   },
   "file_extension": ".py",
   "mimetype": "text/x-python",
   "name": "python",
   "nbconvert_exporter": "python",
   "pygments_lexer": "ipython3",
   "version": "3.7.3"
  }
 },
 "nbformat": 4,
 "nbformat_minor": 2
}
